{
 "cells": [
  {
   "cell_type": "code",
   "execution_count": 109,
   "id": "24c8727f-150a-4871-9331-228787ee25ba",
   "metadata": {},
   "outputs": [],
   "source": [
    "from openai import OpenAI"
   ]
  },
  {
   "cell_type": "code",
   "execution_count": 111,
   "id": "efa5383e-8b01-4a36-866d-03bd0a0650bc",
   "metadata": {},
   "outputs": [],
   "source": [
    "gemini_api_key = \"*******************************************\""
   ]
  },
  {
   "cell_type": "code",
   "execution_count": 113,
   "id": "4cee48c1-3b19-4331-92ae-409e9997ff26",
   "metadata": {},
   "outputs": [],
   "source": [
    "model = OpenAI(api_key = gemini_api_key , base_url = \"https://generativelanguage.googleapis.com/v1beta/openai/\")"
   ]
  },
  {
   "cell_type": "code",
   "execution_count": 115,
   "id": "f402b7a0-6801-4d8f-bb3c-5975fce5be81",
   "metadata": {},
   "outputs": [],
   "source": []
  },
  {
   "cell_type": "code",
   "execution_count": 1,
   "id": "bdcf6918-58a1-4578-900a-7802834d93e4",
   "metadata": {},
   "outputs": [
    {
     "name": "stdout",
     "output_type": "stream",
     "text": [
      "* Running on local URL:  http://127.0.0.1:7860\n",
      "* To create a public link, set `share=True` in `launch()`.\n"
     ]
    },
    {
     "data": {
      "text/html": [
       "<div><iframe src=\"http://127.0.0.1:7860/\" width=\"100%\" height=\"500\" allow=\"autoplay; camera; microphone; clipboard-read; clipboard-write;\" frameborder=\"0\" allowfullscreen></iframe></div>"
      ],
      "text/plain": [
       "<IPython.core.display.HTML object>"
      ]
     },
     "metadata": {},
     "output_type": "display_data"
    },
    {
     "data": {
      "text/plain": []
     },
     "execution_count": 1,
     "metadata": {},
     "output_type": "execute_result"
    }
   ],
   "source": [
    "import gradio as gr\n",
    "import google.generativeai as genai\n",
    "import traceback\n",
    "\n",
    "# ✅ Configure Gemini API\n",
    "genai.configure(api_key=\"**********************************************\")\n",
    "\n",
    "# ✅ Use working model (you can switch to 'gemini-1.5-pro' if you prefer)\n",
    "model = genai.GenerativeModel(\"gemini-1.5-flash\")\n",
    "\n",
    "# ✅ Prompt generator\n",
    "def generate_prompt(budget, mileage, fuel_type, transmission, car_type):\n",
    "    return f\"\"\"\n",
    "Suggest the best car available in India based on the following requirements:\n",
    "- Budget: ₹{budget}\n",
    "- Mileage: {mileage} kmpl or better\n",
    "- Fuel Type: {fuel_type}\n",
    "- Transmission: {transmission}\n",
    "- Car Type: {car_type}\n",
    "\n",
    "Provide output in the following format:\n",
    "Car Name: ...\n",
    "Price: ...\n",
    "Mileage: ...\n",
    "Fuel Type: ...\n",
    "Transmission: ...\n",
    "Car Type: ...\n",
    "Short Description: ...\n",
    "Image URL: (only direct image URL)\n",
    "\"\"\"\n",
    "\n",
    "# ✅ Car recommendation function\n",
    "def recommend_car(budget, mileage, fuel_type, transmission, car_type):\n",
    "    try:\n",
    "        prompt = generate_prompt(budget, mileage, fuel_type, transmission, car_type)\n",
    "        print(\"Sending Prompt:\\n\", prompt)\n",
    "\n",
    "        # Gemini API Call\n",
    "        response = model.generate_content(prompt)\n",
    "        result = response.text.strip()\n",
    "        print(\"Raw Gemini Response:\\n\", result)\n",
    "\n",
    "        # Extract image URL\n",
    "        image_url = \"\"\n",
    "        for line in result.splitlines():\n",
    "            if line.strip().startswith(\"http\") or \"http\" in line:\n",
    "                image_url = line.strip()\n",
    "                break\n",
    "\n",
    "        if not image_url.startswith(\"http\"):\n",
    "            image_url = None\n",
    "\n",
    "        text_output = result.replace(image_url, \"\").strip() if image_url else result\n",
    "\n",
    "        return text_output, image_url\n",
    "\n",
    "    except Exception as e:\n",
    "        # Print traceback for debugging\n",
    "        print(\"❌ Error Occurred:\")\n",
    "        traceback.print_exc()\n",
    "\n",
    "        # Return error message in Gradio UI\n",
    "        return \"An error occurred while fetching car recommendation. Check console.\", None\n",
    "\n",
    "# ✅ Gradio UI\n",
    "with gr.Blocks() as demo:\n",
    "    gr.Markdown(\"## 🚗 Car Recommendation Chatbot\")\n",
    "\n",
    "    with gr.Row():\n",
    "        budget = gr.Number(label=\"Budget (₹)\", value=1000000)\n",
    "        mileage = gr.Number(label=\"Minimum Mileage (km/l)\", value=15)\n",
    "\n",
    "    with gr.Row():\n",
    "        fuel_type = gr.Dropdown([\"Petrol\", \"Diesel\", \"CNG\", \"Electric\"], label=\"Fuel Type\")\n",
    "        transmission = gr.Dropdown([\"Manual\", \"Automatic\"], label=\"Transmission\")\n",
    "\n",
    "    car_type = gr.Dropdown([\"Hatchback\", \"Sedan\", \"SUV\", \"MUV\", \"Compact SUV\"], label=\"Car Type\")\n",
    "\n",
    "    submit_btn = gr.Button(\"Suggest Best Car 🚘\")\n",
    "\n",
    "    output_text = gr.Textbox(label=\"Car Recommendation\", lines=10)\n",
    "    output_img = gr.Image(label=\"Car Image\")\n",
    "\n",
    "    submit_btn.click(fn=recommend_car,\n",
    "                     inputs=[budget, mileage, fuel_type, transmission, car_type],\n",
    "                     outputs=[output_text, output_img])\n",
    "\n",
    "# ✅ Run the app\n",
    "demo.launch()\n"
   ]
  },
  {
   "cell_type": "code",
   "execution_count": 77,
   "id": "2a92754b-6758-4b97-8d62-a4f4788cdd65",
   "metadata": {},
   "outputs": [
    {
     "data": {
      "text/plain": [
       "(\"Car Name: Maruti Suzuki Baleno Zeta AMT\\nPrice: ₹9.15 Lakh (ex-showroom)\\nMileage: 22.94 kmpl\\nFuel Type: Petrol\\nTransmission: Automatic (AMT)\\nCar Type: Hatchback\\nShort Description: The Maruti Suzuki Baleno Zeta AMT offers a good balance of features, fuel efficiency, and a comfortable ride. It's spacious for a hatchback and comes with modern features like a touchscreen infotainment system, keyless entry, and push-button start. The AMT gearbox provides a convenient driving experience.\",\n",
       " 'Image URL: https://imgd.aeplcdn.com/0x0/n/cw/ec/52837/baleno-exterior-right-front-three-quarter-4.jpeg?q=75')"
      ]
     },
     "execution_count": 77,
     "metadata": {},
     "output_type": "execute_result"
    }
   ],
   "source": [
    "recommend_car(1000000, 15, \"petrol\", \"automatic\", \"hatchback\")"
   ]
  },
  {
   "cell_type": "code",
   "execution_count": null,
   "id": "0d3e816a-450d-4656-8ad4-3a8fed1626e6",
   "metadata": {},
   "outputs": [],
   "source": []
  }
 ],
 "metadata": {
  "kernelspec": {
   "display_name": "Python [conda env:base] *",
   "language": "python",
   "name": "conda-base-py"
  },
  "language_info": {
   "codemirror_mode": {
    "name": "ipython",
    "version": 3
   },
   "file_extension": ".py",
   "mimetype": "text/x-python",
   "name": "python",
   "nbconvert_exporter": "python",
   "pygments_lexer": "ipython3",
   "version": "3.12.7"
  }
 },
 "nbformat": 4,
 "nbformat_minor": 5
}
