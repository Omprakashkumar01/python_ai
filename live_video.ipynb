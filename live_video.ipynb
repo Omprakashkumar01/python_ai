{
 "cells": [
  {
   "cell_type": "code",
   "execution_count": 1,
   "id": "91600f73-2322-49b1-875d-15dbe40aede1",
   "metadata": {},
   "outputs": [],
   "source": [
    "import cv2\n"
   ]
  },
  {
   "cell_type": "code",
   "execution_count": 3,
   "id": "db4c90b0-fd54-4def-9f13-3ae122ca8451",
   "metadata": {},
   "outputs": [],
   "source": [
    "photo = cv2.VideoCapture(0)"
   ]
  },
  {
   "cell_type": "code",
   "execution_count": null,
   "id": "a8848815-8c48-44bb-9ae3-e979d342cda9",
   "metadata": {},
   "outputs": [],
   "source": []
  },
  {
   "cell_type": "code",
   "execution_count": 6,
   "id": "a495d983-1fd9-40eb-8ae6-26fcf046d36d",
   "metadata": {},
   "outputs": [],
   "source": [
    "while True:\n",
    "    conf,img = photo.read()\n",
    "    height,width=img.shape[:2]\n",
    "    small_frame=cv2.resize(img,(width//4,height//4))\n",
    "    img[10:10+small_frame.shape[0],10:10+small_frame.shape[1]]=small_frame\n",
    "    cv2.imshow(\"mypic\",img)\n",
    "    if cv2.waitKey(1)==13:\n",
    "        break\n",
    "cv2.destroyAllWindows()"
   ]
  },
  {
   "cell_type": "code",
   "execution_count": 9,
   "id": "4116762e-2e81-471f-bd31-15e3a38ac164",
   "metadata": {},
   "outputs": [],
   "source": [
    "photo.release()"
   ]
  },
  {
   "cell_type": "code",
   "execution_count": null,
   "id": "fbb301de-530d-4e40-9d99-2ed2136f7d9d",
   "metadata": {},
   "outputs": [],
   "source": []
  }
 ],
 "metadata": {
  "kernelspec": {
   "display_name": "Python [conda env:base] *",
   "language": "python",
   "name": "conda-base-py"
  },
  "language_info": {
   "codemirror_mode": {
    "name": "ipython",
    "version": 3
   },
   "file_extension": ".py",
   "mimetype": "text/x-python",
   "name": "python",
   "nbconvert_exporter": "python",
   "pygments_lexer": "ipython3",
   "version": "3.12.7"
  }
 },
 "nbformat": 4,
 "nbformat_minor": 5
}
